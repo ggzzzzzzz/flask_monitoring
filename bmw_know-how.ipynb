{
 "cells": [
  {
   "cell_type": "markdown",
   "metadata": {},
   "source": [
    "# BMW Flask API installation:"
   ]
  },
  {
   "cell_type": "markdown",
   "metadata": {},
   "source": [
    "update bashrc for qq user:"
   ]
  },
  {
   "cell_type": "code",
   "execution_count": null,
   "metadata": {},
   "outputs": [],
   "source": [
    "#run once:\n",
    "\n",
    "cleantext=\"\n",
    "export HISTTIMEFORMAT=\"[%Y-%m-%d %H:%M:%S] \"\n",
    "HISTSIZE='INFINITY'; HISTFILESIZE='ANDBEYOND'\n",
    "\n",
    "PS1='\\e[37m\\D{%H:%M}\\e[91m[\\e[90m\\u@\\h \\e[33m\\w\\e[31m]\\e[92m\\n\\$'\n",
    "\n",
    "alias ll='ls -alF'\n",
    "alias la='ls -A'\n",
    "alias l='ls -CF'\n",
    "alias lr='ls -ltrh'\n",
    "alias ufind=\"find / -name $1 2>/dev/null\"\n",
    "\n",
    "export PATH=$PATH:/home/${USER}/scripts  # currently not used\n",
    "\"\n",
    "\n",
    "echo \"$cleantext\" >> /home/${USER}/.bashrc.sh"
   ]
  },
  {
   "cell_type": "code",
   "execution_count": null,
   "metadata": {},
   "outputs": [],
   "source": [
    "# Check OS vesion:\n",
    "cat /etc/os-release"
   ]
  },
  {
   "cell_type": "markdown",
   "metadata": {},
   "source": [
    "(below commands are for RHEL distro)"
   ]
  },
  {
   "cell_type": "code",
   "execution_count": null,
   "metadata": {},
   "outputs": [],
   "source": [
    "# install prereqs with elevated user:\n",
    "\n",
    "# prod:\n",
    "yum install -y libXcomposite libXcursor libXi libXtst libXrandr alsa-lib mesa-libEGL libXdamage mesa-libGL libXScrnSaver\n",
    "\n",
    "# dev:\n",
    "subscription-manager repos --enable=codeready-builder-for-rhel-8-x86_64-rpms # required for x11\n",
    "yum install -y libXcomposite libXcursor libXi libXtst libXrandr alsa-lib mesa-libEGL libXdamage mesa-libGL libXScrnSaver xorg-x11-apps xorg-x11-xauth firefox"
   ]
  },
  {
   "cell_type": "markdown",
   "metadata": {},
   "source": [
    "[Within VDI]\n",
    "> download <mark>Anaconda3-2020.02-Linux-x86_64.sh</mark> from https://repo.anaconda.com/archive/ \n",
    "\n",
    "> download & install WinSCP from http://wuss.bmwgroup.net\n",
    "\n",
    "> upload Anaconda3-2020.02-Linux-x86_64.sh to <mark>Telegraf host</mark> to /tmp or /home/qqky020/UI/install_files (but first create the folder for that - see below)\n"
   ]
  },
  {
   "cell_type": "markdown",
   "metadata": {},
   "source": [
    "[Telegraf host]"
   ]
  },
  {
   "cell_type": "code",
   "execution_count": null,
   "metadata": {},
   "outputs": [],
   "source": [
    "# create folders:\n",
    "mkdir -p  /home/${USER}/UI/Flask ~/UI/install_files\n",
    "# give execute rights to the installed:\n",
    "chmod +x Anaconda3-2020.02-Linux-x86_64.sh\n",
    "# Long press Enter; then \"yes\"; then \"yes\" (again)\n",
    "# when completed - reload shell:\n",
    ". ~/.bashrc\n",
    "# install requirements for Flask API (maybe you need to update the path to requirements folder: check \"flask_wapi_UAT\")\n",
    "cd  ~/UI/flask_wapi_UAT/requirements; `for': for file in $(ls) ; do pip install ./${file}; done\n",
    ". ../.flask run\n",
    "# dev/test instance\n",
    "flask run --host 0.0.0.0  \n",
    "# prod\n",
    "IP=\"$(hostname -I | awk '{print $1}')\"\n",
    "nohup flask run --host $IP &\n",
    "# to close it type \"fg\" and press ctrl+c; #or \"kill %1\" #but be sure that is the only background process that is running!"
   ]
  },
  {
   "cell_type": "markdown",
   "metadata": {},
   "source": [
    "[VDI]\n",
    "> open preferred web browser\n",
    "\n",
    "> open the UI: http://<mark>XX.X.XX.XX</mark>:8000 #replace with correct IP address"
   ]
  },
  {
   "cell_type": "markdown",
   "metadata": {},
   "source": [
    "[Telegraf host]\n",
    "\n",
    "Backend & <b>cronjobs</b>: <mark>monitoring_services.sh</mark>"
   ]
  },
  {
   "cell_type": "code",
   "execution_count": null,
   "metadata": {},
   "outputs": [],
   "source": [
    "# create backend script:\n",
    "vi monitoring_services.sh\n",
    "# paste the below (to be updated) #current version = 2022.08.03 (Author: Michal Márkus)\n",
    "#!/bin/bash\n",
    "# monitoring_services.sh\n",
    "\n",
    "\n",
    "DATE=`date +'%m/%d/%Y %H:%M:%S'`\n",
    "\n",
    "\n",
    "services_check()\n",
    "{\n",
    "\n",
    "# Check status if services are running:\n",
    "grafana_check=\"$(curl -sL -I -w 'Establish Connection: %{time_connect}s\\nTTFB: %{time_starttransfer}s\\nTotal: %{time_total}s\\n' itahdnasrep.bmwgroup.net:3000/ping/api/health\"\n",
    "      latency=$(cat statcheck.txt | egrep \"Total: [3-9]\") # means latency is below 3 seconds\n",
    "# check if it is ok (if HTTP heartbeat returns 200 then also check latency if latency below 3 sec, then echo OK) & log (Latency needs to go to another log, as ticket is looking for last 5 rows...):\n",
    "alias grafana_status=\"[ $(echo ${service}_check | grep HTTP | grep 200 | awk '{print $2}') eq 200 ] && [ -z \"$latency\" ] || echo -e \"\"\\n$DATE\\n$grafana_check\\n\\n###\" >> ${service}_high_latency.log  && echo \"${service} OK\" >> ${service}_uptime.log || echo \"${service}\" not running $DATE >> ${service}_uptime.log\"\n",
    "\n",
    "###\n",
    "\n",
    "harvest_check=\"$(ssh -tt michal@ithdnasuathar.bmwgroup.net 'systemctl status harvest')\"\n",
    "alias harvest_status=if [ \"$(echo ${service}_check | sort -u | grep -v running | wc -l)\" -gt 0 ]; then echo \"${service}\" not running `date +'%m/%d/%Y %H:%M:%S'` >> ${service}_uptime.log; else echo \"${service} OK\";fi    \n",
    "\n",
    "###\n",
    "\n",
    "influx_check=\"$(curl -sL -I -w 'Establish Connection: %{time_connect}s\\nTTFB: %{time_starttransfer}s\\nTotal: %{time_total}s\\n' itahdnasrep.bmwgroup.net:8086\"\n",
    "      latency=$(cat statcheck.txt | egrep \"Total: [3-9]\")\n",
    "alias influx_status=\"[ $(echo ${service}_check | grep HTTP | grep 200 | awk '{print $2}') eq 200 ] && [ -z \"$latency\" ] || echo -e \"\"\\n$DATE\\n$influx_check\\n\\n###\" >> ${service}_high_latency.log  && echo \"${service} OK\" >> ${service}_uptime.log || echo \"${service}\" not running $DATE >> ${service}_uptime.log\"\n",
    "\n",
    "###    \n",
    "\n",
    "declare {nodered,ansible}=\"echo not configured yet \"  # CURRENTLY NOT SET\n",
    "\n",
    "###    \n",
    "\n",
    "telegraf_check=\"$(systemctl | grep ${service})\"    \n",
    "alias telegraf_status=if [ \"$(echo ${service}_check | sort -u | grep -v running | wc -l)\" -gt 0 ]; then echo \"${service}\" not running `date +'%m/%d/%Y %H:%M:%S'` >> ${service}_uptime.log; else echo \"${service} OK\";fi    \n",
    "    \n",
    "    \n",
    "for service in grafana harvest influx telegraf #ansible nodered\n",
    "    do\n",
    "        ${service}_status\n",
    "    done\n",
    "}\n",
    "\n",
    "\n",
    "\n",
    "ticket()\n",
    "{\n",
    "\n",
    "# Send info to NodeRed when service is down:\n",
    "HTIME=`date +'%m/%d/%Y %H:%M:%S'`; EPOCHNOW=`date -d \"${HTIME}\" +\"%s\"`\n",
    "\n",
    "c=0\n",
    "for((i=1;i<=5;++i))\n",
    "    do\n",
    "        dat=$(tac telegraf_uptime.log | sed -n \"${i},1p\" | cut -d@ -f2)\n",
    "        epoch_dat=`date -d \"${dat}\" +\"%s\"`\n",
    "        if [ \"$(echo $EPOCHNOW-$epoch_dat|bc)\" -le \"360\"  ] # less or equal to 360 seconds AKA 6 min (5min +1min grace time due to latency)\n",
    "            then c=$((c+1))\n",
    "        fi\n",
    "    done\n",
    "\n",
    "if [[ $c -ge 5 ]]; then echo \"ticket file with paramenters edited by sed will be passed to NodeRed\"; else echo OK; fi\n",
    "\n",
    "# static IDs; variables to NodeRed via json. \n",
    "# ha customer betelefonál arra is van ticket - annak mi lesz az ID-je? es Gerijek nyitnak ticketet annak mi az ID-je.\n",
    "\n",
    "# check log files for tickets within 24 hours; last week; last month & print to file that will be available on Past Incidents tab\n",
    "\n",
    "\n",
    "}\n",
    "\n",
    "\n",
    "manage_logs()\n",
    "{\n",
    "\n",
    "# PAST INCIDENTS:\n",
    "#rm incidents_*.csv 2>/dev/null\n",
    "\n",
    "for T in DAYS WEEKS MONTH; \n",
    "    do declare t=${T,,}; echo $t; \n",
    "        RANGE=$(date -d \"$date -1 ${t}\" +\"%s\"); \n",
    "\n",
    "        #cat telegraf_uptime.log | while read line; \n",
    "        ls *_uptime.log | xargs cat | sort -u | while read line;\n",
    "    \n",
    "        do \n",
    "            x=$(echo $line |cut -d@ -f2) #  | date +\"%s\") #  get Date\n",
    "            y=$(date -d \"$x\" +\"%s\")  # convert it to EPOCH format\n",
    "            \n",
    "            #echo $y-$RANGE|bc  # check difference\n",
    "            \n",
    "            if [ \"$RANGE\" -le \"$y\" ]; then  echo $line >> incidents_${t}.csv; fi\n",
    "            \n",
    "        done\n",
    "    \n",
    "    done\n",
    "\n",
    "mv incidents_days.csv today.csv\n",
    "mv incidents_weeks.csv weekly.csv   \n",
    "mv incidents_month.csv montly.csv \n",
    "\n",
    "}\n",
    "\n",
    "\n",
    "services_check\n",
    "ticket\n",
    "manage_logs"
   ]
  },
  {
   "cell_type": "code",
   "execution_count": null,
   "metadata": {},
   "outputs": [],
   "source": [
    "# Edit the crontab via:\n",
    "crontab -e\n",
    "# paste the following (this script runs every minute):\n",
    "*/1 * * * * source ~/.bashrc; /home/qq_XX/monitoring_services.sh"
   ]
  },
  {
   "cell_type": "markdown",
   "metadata": {},
   "source": [
    "Decommission:"
   ]
  },
  {
   "cell_type": "markdown",
   "metadata": {},
   "source": [
    "rm -rf ~/anaconda3  # also remove anaconda stuff from ~/.bashrc"
   ]
  },
  {
   "cell_type": "code",
   "execution_count": null,
   "metadata": {},
   "outputs": [],
   "source": []
  },
  {
   "cell_type": "markdown",
   "metadata": {},
   "source": [
    "# Tool configurations"
   ]
  },
  {
   "cell_type": "markdown",
   "metadata": {},
   "source": [
    "# Telegraf"
   ]
  },
  {
   "cell_type": "markdown",
   "metadata": {},
   "source": [
    "### Info from Florian:\n",
    "---\n",
    "```\n",
    "I prepared the Grid configuration already, so that the Telegraf can start to collect the data. \n",
    "Please take care that it can take up to 15 minutes with the initial data collection till it get reflected into the InfluxDB with the “prometheus” _measurements. \n",
    "\n",
    "StorageGRID requires a certificate authentication, so in addition I attached you the required certificates. \n",
    "Move them in the /etc/telegraf directory or subdirectory (modify tls_ca/tls_ca_cert & tls_key path in this case).\n",
    "\n",
    "There are 3 configuration parts to be modified / checked. \n",
    "\n",
    "#1  modify the common Telegraf config (at the beginning of the config file)\n",
    "[agent]\n",
    "   interval = “60s”\n",
    "   metric_batch_size = 5000\n",
    "   metric_buffer_limit = 75000\n",
    "\n",
    "\n",
    "#2  add the Storagegrid Input config\n",
    " [[inputs.prometheus]] \n",
    "   urls = ['https://10.2.62.68:9091/federate?match%5B%5D=%7Bjob%3D~%22.%2B%22%7D']\n",
    "   metric_version = 2\n",
    "   tls_ca = \"/etc/telegraf/cacert.pem\"\n",
    "   tls_cert = \"/etc/telegraf/cert.pem\"\n",
    "   tls_key = \"/etc/telegraf/key.pem\"\n",
    "   insecure_skip_verify = true\n",
    "   response_timeout = \"59s\"\n",
    "\n",
    "\n",
    "#3 check your [outputs.influxdb_v2]] configuration. \n",
    "Telegraf will write the data into the according bucket you set here. \n",
    "\n",
    "\n",
    "After this restart the Telegraf (via cmd # sudo systemctl stop telegraf & # sudo systemctl start telegraf). \n",
    "15 Minutes after this, the InfluxDB will reflect the StorageGRID data.\n",
    "``` \n",
    "\n",
    "> Source: mail @Fri 22/05/13 13:11\n"
   ]
  },
  {
   "cell_type": "markdown",
   "metadata": {},
   "source": [
    "## UAT Telegraf config steps\n",
    "Telegraf configuration\n",
    "Telegraf agents located on: <b>ITAHDNASUATTEL</b>\n",
    "There is 5 instance running\n",
    "- SNMP trap receiver\n",
    "- SNMP query for Cisco Switches\n",
    "- VM server data receiver\n",
    "installation folder:\n",
    "`/etc/telegraf`\n",
    "each telegraf has its own service\n",
    "#### sytemctl status telegraf_broadcom.service\n",
    "`/usr/bin/telegraf -config /etc/telegraf/telegraf_broadcom.conf -config-directory /etc/telegraf/telegraf_broadcom`\n",
    "#### sytemctl status telegraf_cisco.service\n",
    "`/usr/bin/telegraf -config /etc/telegraf/telegraf_cisco.conf -config-directory /etc/telegraf/telegraf_cisco`\n",
    "#### sytemctl status telegraf_storage.service \n",
    "`/usr/bin/telegraf -config /etc/telegraf/telegraf_storage.conf -config-directory /etc/telegraf/telegraf_storage`\n",
    "#### sytemctl status telegraf_traps.service\n",
    "`/usr/bin/telegraf -config /etc/telegraf/telegraf_traps.conf -config-directory /etc/telegraf/telegraf_traps`\n",
    "#### sytemctl status telegraf_system.service\n",
    "`/usr/bin/telegraf -config /etc/telegraf/telegraf_system.conf -config-directory /etc/telegraf/telegraf_system`\n",
    "\n",
    "To receive SNMP traps from AIQ UM two MIB file required to copied to the configured path where the MIB's name are important\n",
    "- NETAPP.MIB\n",
    "- OCUM.MIB (this is a renamed aiqum_9.9.mib)"
   ]
  },
  {
   "cell_type": "markdown",
   "metadata": {},
   "source": [
    "# Influx"
   ]
  },
  {
   "cell_type": "markdown",
   "metadata": {},
   "source": [
    "## Install Influx CLI and Modify <mark>bucket's retention</mark>\n",
    "Install Influx CLI/Modify bucket's retention:\n",
    "Download package from the following URL: https://docs.influxdata.com/influxdb/cloud/tools/influx-cli/?t=Windows\n",
    "Install CLI to VDI: Because we haven't permission on the 'C:\\Program Files' folder, need modify the original command:\n",
    "Ori: Expand-Archive .\\influxdb2-client-2.3.0-windows-amd64.zip -DestinationPath 'C:\\Program Files\\InfluxData' mv 'C:\\Program Files\\InfluxData\\influxdb2-client-2.3.0-windows-amd64' 'C:\\Program Files\\InfluxData\\influx'\n",
    "Modified: Expand-Archive .\\influxdb2-client-2.3.0-windows-amd64.zip -DestinationPath 'C:\\InfluxData' mv 'C:\\InfluxData\\influxdb2-client-2.3.0-windows-amd64' 'C:\\InfluxData\\influx'\n",
    "Use Powershell for the following\n",
    "Before issuing the above command, navigate to the folder where you downloaded the CLI package. For example:\n",
    "```\n",
    "cd C:\\Users\"USERNAME\"\\Downloads`\n",
    "mkdir C:\\InfluxData`\n",
    "Expand-Archive .\\influxdb2-client-2.3.0-windows-amd64.zip -DestinationPath 'C:\\InfluxData'\n",
    "mv 'C:\\InfluxData\\influxdb2-client-2.3.0-windows-amd64' 'C:\\InfluxData\\influx'\n",
    "Navigate to the C:\\InfluxData\\influx // because we cannot modify the 'path' variable, need to go to the folder where the influx.exe exists\n",
    "Create an influx CLI's config for the remote host: .\\influx config create -a -n CONFIGNAME -u URL -t TOKEN_WHICH_HAS_PROPER_PRIVILEGES -o ORGANIZATION\n",
    "List bucket's current settings:\n",
    "PS C:\\InfluxData\\influx> .\\influx.exe bucket list ID Name Retention Shard group duration Organization ID Schema Type 834ba3f797c35789 BroadcomBES 1440h0m0s 24h0m0s f24c8a8d0e5f36e8 implicit f827bf73e326118b CiscoBackend 1440h0m0s 24h0m0s f24c8a8d0e5f36e8 implicit\n",
    "Modify bucket's retention: Command reference: https://docs.influxdata.com/influxdb/v2.2/organizations/buckets/update-bucket/\n",
    ".\\influx bucket update -i BUCKET_ID -r NEW_RETENTION_TIME\n",
    "```\n",
    "Done\n"
   ]
  },
  {
   "cell_type": "code",
   "execution_count": null,
   "metadata": {},
   "outputs": [],
   "source": []
  }
 ],
 "metadata": {
  "kernelspec": {
   "display_name": "Python 3",
   "language": "python",
   "name": "python3"
  },
  "language_info": {
   "codemirror_mode": {
    "name": "ipython",
    "version": 3
   },
   "file_extension": ".py",
   "mimetype": "text/x-python",
   "name": "python",
   "nbconvert_exporter": "python",
   "pygments_lexer": "ipython3",
   "version": "3.7.6"
  }
 },
 "nbformat": 4,
 "nbformat_minor": 4
}
