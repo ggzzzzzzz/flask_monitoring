{
 "cells": [
  {
   "cell_type": "markdown",
   "metadata": {},
   "source": [
    "## Script:"
   ]
  },
  {
   "cell_type": "code",
   "execution_count": 106,
   "metadata": {},
   "outputs": [],
   "source": [
    "import subprocess, os\n",
    "# telegraf_service.py\n",
    "## subprocess for Flask\n",
    "\n",
    "def t_stat():\n",
    "    \n",
    "    #telegraf_ps_command = \"ps -ef |grep -i telegraf_dummy |grep -v grep\" # or replace with 'systemctl status telegraf'\n",
    "    \n",
    "    # bash commands:\n",
    "    #  test:\n",
    "    telegraf_processes_c = \"cat /mnt/c/Users/MichalMarkus/Downloads/flask_wapi_v5/systemctl_grep_telegraf.txt | grep tele | wc -l\"\n",
    "    telegraf_processes_running_c = \"cat /mnt/c/Users/MichalMarkus/Downloads/flask_wapi_v5/systemctl_grep_telegraf.txt | grep telegraf | grep running | wc -l\"\n",
    "    telegraf_processes_na_c = \"cat /mnt/c/Users/MichalMarkus/Downloads/flask_wapi_v5/systemctl_grep_telegraf.txt | grep telegraf | grep -v running\"\n",
    "    \n",
    "    \n",
    "    # variables with values:\n",
    "    #status, telegraf_ps_command_status = subprocess.getstatusoutput(telegraf_ps_command)\n",
    "    status, telegraf_processes = subprocess.getstatusoutput(telegraf_processes_c)\n",
    "    status, telegraf_processes_running = subprocess.getstatusoutput(telegraf_processes_running_c)\n",
    "    status, telegraf_processes_na = subprocess.getstatusoutput(telegraf_processes_na_c)\n",
    "\n",
    "        \n",
    "    print (\"processes\",telegraf_processes,\"\\n\\nrunning\",telegraf_processes_running,\"\\n\\nna:\\n\",telegraf_processes_na,\"\\n\\n\\n\")\n",
    "    \n",
    "    if telegraf_processes_running == 0:\n",
    "        telegraf_status = 0\n",
    "        c = \"red\"\n",
    "        #print (telegraf_status, c)\n",
    "        return (telegraf_status, c)\n",
    "    elif telegraf_processes > telegraf_processes_running:\n",
    "        telegraf_status = telegraf_processes_na\n",
    "        c = \"yellow\"\n",
    "        #print (telegraf_status, c)\n",
    "        return (telegraf_status, c)\n",
    "    elif telegraf_processes == telegraf_processes_running:\n",
    "        c = \"green\"\n",
    "        #print (telegraf_status, c)\n",
    "        return (telegraf_status, c)\n",
    "    \n"
   ]
  },
  {
   "cell_type": "markdown",
   "metadata": {},
   "source": [
    "#### run function:"
   ]
  },
  {
   "cell_type": "code",
   "execution_count": 107,
   "metadata": {},
   "outputs": [
    {
     "name": "stdout",
     "output_type": "stream",
     "text": [
      "processes 5 \n",
      "\n",
      "running 3 \n",
      "\n",
      "na:\n",
      " telegraf_cisco.service    loaded inactive dead   The plugin-driven server agent for reporting metrics into InfluxDB  \n",
      "telegraf_system.service    loaded failed failed   The plugin-driven server agent for reporting metrics into InfluxDB   \n",
      "\n",
      "\n",
      "\n"
     ]
    },
    {
     "data": {
      "text/plain": [
       "('telegraf_cisco.service    loaded inactive dead   The plugin-driven server agent for reporting metrics into InfluxDB  \\ntelegraf_system.service    loaded failed failed   The plugin-driven server agent for reporting metrics into InfluxDB  ',\n",
       " 'yellow')"
      ]
     },
     "execution_count": 107,
     "metadata": {},
     "output_type": "execute_result"
    }
   ],
   "source": [
    "t_stat()"
   ]
  },
  {
   "cell_type": "markdown",
   "metadata": {},
   "source": [
    "## Run script by parts"
   ]
  },
  {
   "cell_type": "code",
   "execution_count": 115,
   "metadata": {},
   "outputs": [],
   "source": [
    "import subprocess, os"
   ]
  },
  {
   "cell_type": "markdown",
   "metadata": {},
   "source": [
    "#### run only one of the following color blocks to test if function:"
   ]
  },
  {
   "cell_type": "markdown",
   "metadata": {},
   "source": [
    "(you'll probably have to update the path to your local file - to see your current location run the cell below)"
   ]
  },
  {
   "cell_type": "code",
   "execution_count": 108,
   "metadata": {},
   "outputs": [
    {
     "data": {
      "text/plain": [
       "'/mnt/c/Users/MichalMarkus/Downloads/flask_wapi_v5/subcommands'"
      ]
     },
     "execution_count": 108,
     "metadata": {},
     "output_type": "execute_result"
    }
   ],
   "source": [
    "os.getcwd()"
   ]
  },
  {
   "cell_type": "markdown",
   "metadata": {},
   "source": [
    "systemctl services example:\n",
    "\n",
    ">telegraf_broadcom.service                                                                        loaded active running   The plugin-driven server agent for reporting metrics into InfluxDB  \n",
    "telegraf_cisco.service                                                                           loaded inactive dead   The plugin-driven server agent for reporting metrics into InfluxDB  \n",
    "telegraf_storage.service                                                                         loaded active running   The plugin-driven server agent for reporting metrics into InfluxDB  \n",
    "telegraf_system.service                                                                          loaded failed failed   The plugin-driven server agent for reporting metrics into InfluxDB  \n",
    "telegraf_traps.service                                                                           loaded active running   The plugin-driven server agent for reporting metrics into InfluxDB\n"
   ]
  },
  {
   "cell_type": "markdown",
   "metadata": {},
   "source": [
    "### Green"
   ]
  },
  {
   "cell_type": "code",
   "execution_count": 116,
   "metadata": {},
   "outputs": [],
   "source": [
    "#  test-green:\n",
    "telegraf_processes_c = \"cat /mnt/c/Users/MichalMarkus/Downloads/flask_wapi_v5/systemctl_grep_telegraf-green.txt | grep tele | wc -l\"\n",
    "telegraf_processes_running_c = \"cat /mnt/c/Users/MichalMarkus/Downloads/flask_wapi_v5/systemctl_grep_telegraf-green.txt | grep telegraf | grep running | wc -l\"\n",
    "telegraf_processes_na_c = \"cat /mnt/c/Users/MichalMarkus/Downloads/flask_wapi_v5/systemctl_grep_telegraf-green.txt | grep telegraf | grep -v running\""
   ]
  },
  {
   "cell_type": "markdown",
   "metadata": {},
   "source": [
    "### Yellow"
   ]
  },
  {
   "cell_type": "code",
   "execution_count": 118,
   "metadata": {},
   "outputs": [],
   "source": [
    "#  test-yellow:\n",
    "telegraf_processes_c = \"cat /mnt/c/Users/MichalMarkus/Downloads/flask_wapi_v5/systemctl_grep_telegraf-yellow.txt | grep tele | wc -l\"\n",
    "telegraf_processes_running_c = \"cat /mnt/c/Users/MichalMarkus/Downloads/flask_wapi_v5/systemctl_grep_telegraf-yellow.txt | grep telegraf | grep running | wc -l\"\n",
    "telegraf_processes_na_c = \"cat /mnt/c/Users/MichalMarkus/Downloads/flask_wapi_v5/systemctl_grep_telegraf-yellow.txt | grep telegraf | grep -v running\""
   ]
  },
  {
   "cell_type": "markdown",
   "metadata": {},
   "source": [
    "### Red"
   ]
  },
  {
   "cell_type": "code",
   "execution_count": 104,
   "metadata": {},
   "outputs": [],
   "source": [
    "#  test-red:\n",
    "telegraf_processes_c = \"cat /mnt/c/Users/MichalMarkus/Downloads/flask_wapi_v5/systemctl_grep_telegraf-red.txt | grep tele | wc -l\"\n",
    "telegraf_processes_running_c = \"cat /mnt/c/Users/MichalMarkus/Downloads/flask_wapi_v5/systemctl_grep_telegraf-red.txt | grep telegraf | grep running | wc -l\"\n",
    "telegraf_processes_na_c = \"cat /mnt/c/Users/MichalMarkus/Downloads/flask_wapi_v5/systemctl_grep_telegraf-red.txt | grep telegraf | grep -v running\""
   ]
  },
  {
   "cell_type": "code",
   "execution_count": 124,
   "metadata": {},
   "outputs": [
    {
     "name": "stdout",
     "output_type": "stream",
     "text": [
      "processes 5 \n",
      "\n",
      "running 3 \n",
      "\n",
      "na:\n",
      " telegraf_cisco.service    loaded inactive dead   The plugin-driven server agent for reporting metrics into InfluxDB  \n",
      "telegraf_system.service    loaded failed failed   The plugin-driven server agent for reporting metrics into InfluxDB   \n",
      "\n",
      "\n",
      "Returns:\n",
      "telegraf_cisco.service    loaded inactive dead   The plugin-driven server agent for reporting metrics into InfluxDB  \n",
      "telegraf_system.service    loaded failed failed   The plugin-driven server agent for reporting metrics into InfluxDB   \n",
      "\n",
      " yellow\n"
     ]
    }
   ],
   "source": [
    "#telegraf_ps_command = \"ps -ef |grep -i telegraf_dummy |grep -v grep\" # or replace with 'systemctl status telegraf'\n",
    "\n",
    "# bash commands:\n",
    "#  prod env:\n",
    "\"\"\"\n",
    "telegraf_processes_c = \"systemctl | grep tele | wc -l\"\n",
    "telegraf_processes_running_c = \"systemctl | grep telegraf | grep running | wc -l\"\n",
    "telegraf_processes_na_c = \"systemctl | grep telegraf | grep -v running\"\n",
    "\"\"\"\n",
    "\n",
    "# variables with values:\n",
    "#status, telegraf_ps_command_status = subprocess.getstatusoutput(telegraf_ps_command)\n",
    "status, telegraf_processes = subprocess.getstatusoutput(telegraf_processes_c)\n",
    "status, telegraf_processes_running = subprocess.getstatusoutput(telegraf_processes_running_c)\n",
    "status, telegraf_processes_na = subprocess.getstatusoutput(telegraf_processes_na_c)\n",
    "\n",
    "\n",
    "print (\"processes\",telegraf_processes,\"\\n\\nrunning\",telegraf_processes_running,\"\\n\\nna:\\n\",telegraf_processes_na,\"\\n\\n\\nReturns:\")\n",
    "\n",
    "if telegraf_processes_running == '0':\n",
    "    telegraf_status = 0\n",
    "    c = \"red\"\n",
    "    print (telegraf_status,\"\\n\\n\", c)\n",
    "elif telegraf_processes > telegraf_processes_running:\n",
    "    telegraf_status = telegraf_processes_na\n",
    "    c = \"yellow\"\n",
    "    print (telegraf_status,\"\\n\\n\", c)\n",
    "elif telegraf_processes == telegraf_processes_running:\n",
    "    telegraf_status = \"Healthy\"\n",
    "    c = \"green\"\n",
    "    print (telegraf_status,\"\\n\\n\", c)"
   ]
  },
  {
   "cell_type": "markdown",
   "metadata": {},
   "source": [
    "#### print variables:"
   ]
  },
  {
   "cell_type": "code",
   "execution_count": 109,
   "metadata": {},
   "outputs": [
    {
     "data": {
      "text/plain": [
       "'3'"
      ]
     },
     "execution_count": 109,
     "metadata": {},
     "output_type": "execute_result"
    }
   ],
   "source": [
    "telegraf_processes_running"
   ]
  },
  {
   "cell_type": "code",
   "execution_count": 111,
   "metadata": {},
   "outputs": [
    {
     "data": {
      "text/plain": [
       "'yellow'"
      ]
     },
     "execution_count": 111,
     "metadata": {},
     "output_type": "execute_result"
    }
   ],
   "source": [
    "c"
   ]
  },
  {
   "cell_type": "code",
   "execution_count": 114,
   "metadata": {},
   "outputs": [
    {
     "data": {
      "text/plain": [
       "''"
      ]
     },
     "execution_count": 114,
     "metadata": {},
     "output_type": "execute_result"
    }
   ],
   "source": [
    "telegraf_ps_command_status"
   ]
  },
  {
   "cell_type": "code",
   "execution_count": 113,
   "metadata": {},
   "outputs": [
    {
     "data": {
      "text/plain": [
       "0"
      ]
     },
     "execution_count": 113,
     "metadata": {},
     "output_type": "execute_result"
    }
   ],
   "source": [
    "status"
   ]
  },
  {
   "cell_type": "markdown",
   "metadata": {},
   "source": [
    "### test here!"
   ]
  },
  {
   "cell_type": "code",
   "execution_count": 11,
   "metadata": {},
   "outputs": [
    {
     "name": "stdout",
     "output_type": "stream",
     "text": [
      "Telegraf not running @07/28/2022 08:26:00\n",
      "Telegraf not running @07/28/2022 08:26:25\n",
      "Telegraf not running @07/28/2022 08:26:28\n",
      "Telegraf not running @07/28/2022 08:26:30\n",
      "Telegraf not running @07/28/2022 08:26:32\n",
      "Telegraf not running @07/28/2022 08:26:35\n",
      "Telegraf not running @07/28/2022 08:27:09\n",
      "Telegraf not running @07/28/2022 08:27:30\n"
     ]
    }
   ],
   "source": [
    "%%bash\n",
    "\n",
    "# print values to logfile\n",
    "\n",
    "echo Telegraf not running @`date +'%m/%d/%Y %H:%M:%S'` >> telegraf_uptime.log\n",
    "cat telegraf_uptime.log"
   ]
  },
  {
   "cell_type": "markdown",
   "metadata": {},
   "source": [
    "### launch & kill dummy process"
   ]
  },
  {
   "cell_type": "code",
   "execution_count": 1,
   "metadata": {},
   "outputs": [
    {
     "name": "stdout",
     "output_type": "stream",
     "text": [
      "Process is interrupted.\n"
     ]
    }
   ],
   "source": [
    "%%bash\n",
    "\n",
    "bash -c 'exec -a TELEGRAF_DUMMY sleep 1000000'"
   ]
  },
  {
   "cell_type": "raw",
   "metadata": {},
   "source": [
    "%%bash\n",
    "# use interrupt kernel instead\n",
    "kill %1"
   ]
  },
  {
   "cell_type": "markdown",
   "metadata": {},
   "source": [
    " ![Interrupt kernel](http://buildandteach.com/wp-content/uploads/2019/03/image-2.png \"How to interrupt kernel\")"
   ]
  },
  {
   "cell_type": "markdown",
   "metadata": {},
   "source": [
    "#### <mark>monitoring_services.sh</mark>"
   ]
  },
  {
   "cell_type": "markdown",
   "metadata": {},
   "source": [
    "##### <b>crontab</b>"
   ]
  },
  {
   "cell_type": "raw",
   "metadata": {},
   "source": [
    "# ┌───────────── minute (0 - 59)\n",
    "# │ ┌───────────── hour (0 - 23)\n",
    "# │ │ ┌───────────── day of the month (1 - 31)\n",
    "# │ │ │ ┌───────────── month (1 - 12)\n",
    "# │ │ │ │ ┌───────────── day of the week (0 - 6) (Sunday to Saturday;\n",
    "# │ │ │ │ │                                   7 is also Sunday on some systems)\n",
    "# │ │ │ │ │\n",
    "# │ │ │ │ │\n",
    "# * * * * * <command to execute>"
   ]
  },
  {
   "cell_type": "raw",
   "metadata": {},
   "source": [
    "*/1 * * * * source ~/.bashrc; /home/qq_XX/monitoring_services.sh  # run this script every minute"
   ]
  },
  {
   "cell_type": "code",
   "execution_count": null,
   "metadata": {},
   "outputs": [],
   "source": [
    "%%bash\n",
    "# monitoring_services.sh - part1\n",
    "## bash script that checks and logs status for services\n",
    "\n",
    "services_check()\n",
    "{\n",
    "\n",
    "DATE=`date +'%m/%d/%Y %H:%M:%S'`\n",
    "\n",
    "# check status:\n",
    "grafana_check=\"$(curl -sL -I -w 'Establish Connection: %{time_connect}s\\nTTFB: %{time_starttransfer}s\\nTotal: %{time_total}s\\n' itahdnasrep.bmwgroup.net:3000/ping/api/health\"\n",
    "      latency=$(cat statcheck.txt | egrep \"Total: [3-9]\") # means latency is below 3 seconds\n",
    "# check if it is ok (if HTTP heartbeat returns 200 then also check latency if latency below 3 sec, then echo OK) & log (Latency needs to go to another log, as ticket is looking for last 5 rows...):\n",
    "alias grafana_status=\"[ $(echo ${service}_check | grep HTTP | grep 200 | awk '{print $2}') eq 200 ] && [ -z \"$latency\" ] || echo -e \"\"\\n$DATE\\n$grafana_check\\n\\n###\" >> ${service}_high_latency.log  && echo \"${service} OK\" >> ${service}_uptime.log || echo \"${service}\" not running $DATE >> ${service}_uptime.log\"\n",
    "###\n",
    "harvest_check=\"$(ssh -tt michal@ithdnasuathar.bmwgroup.net 'systemctl status harvest')\"\n",
    "alias harvest_status=if [ \"$(echo ${service}_check | sort -u | grep -v running | wc -l)\" -gt 0 ]; then echo \"${service}\" not running `date +'%m/%d/%Y %H:%M:%S'` >> ${service}_uptime.log; else echo \"${service} OK\";fi    \n",
    "###\n",
    "influx_check=\"$(curl -sL -I -w 'Establish Connection: %{time_connect}s\\nTTFB: %{time_starttransfer}s\\nTotal: %{time_total}s\\n' itahdnasrep.bmwgroup.net:8086\"\n",
    "      latency=$(cat statcheck.txt | egrep \"Total: [3-9]\")\n",
    "alias influx_status=\"[ $(echo ${service}_check | grep HTTP | grep 200 | awk '{print $2}') eq 200 ] && [ -z \"$latency\" ] || echo -e \"\"\\n$DATE\\n$influx_check\\n\\n###\" >> ${service}_high_latency.log  && echo \"${service} OK\" >> ${service}_uptime.log || echo \"${service}\" not running $DATE >> ${service}_uptime.log\"\n",
    "###    \n",
    "declare {nodered,ansible}=\"echo not configured yet \"  # CURRENTLY NOT SET\n",
    "###    \n",
    "telegraf_check=\"$(systemctl | grep ${service})\"    \n",
    "alias telegraf_status=if [ \"$(echo ${service}_check | sort -u | grep -v running | wc -l)\" -gt 0 ]; then echo \"${service}\" not running `date +'%m/%d/%Y %H:%M:%S'` >> ${service}_uptime.log; else echo \"${service} OK\";fi    \n",
    "    \n",
    "    \n",
    "for service in grafana harvest influx telegraf #ansible nodered\n",
    "    do\n",
    "        ${service}_status\n",
    "    done\n",
    "}"
   ]
  },
  {
   "cell_type": "code",
   "execution_count": 10,
   "metadata": {},
   "outputs": [
    {
     "name": "stdout",
     "output_type": "stream",
     "text": [
      "ticket file with paramenters edited by sed will be passed to NodeRed\n"
     ]
    }
   ],
   "source": [
    "%%bash\n",
    "# monitoring_services.sh - part2\n",
    "# ticket notification\n",
    "\n",
    "DATE=`date`; HTIME=`date +'%m/%d/%Y %H:%M:%S'`; EPOCHNOW=`date -d \"${HTIME}\" +\"%s\"`; EPOCHNOW=`date -d \"${HTIME}\" +\"%s\"`\n",
    "\n",
    "c=0\n",
    "for((i=1;i<=5;++i))\n",
    "    do\n",
    "        dat=$(tac telegraf_uptime.log | sed -n \"${i},1p\" | cut -d@ -f2)\n",
    "        epoch_dat=`date -d \"${dat}\" +\"%s\"`\n",
    "        if [ \"$(echo $EPOCHNOW-$epoch_dat|bc)\" -le \"360\"  ] # less or equal to 360 seconds AKA 6 min (5min +1min grace time due to latency)\n",
    "            then c=$((c+1))\n",
    "        fi\n",
    "    done\n",
    "\n",
    "if [[ $c -ge 5 ]]; then echo \"ticket file with paramenters edited by sed will be passed to NodeRed\"; else echo OK; fi\n",
    "\n",
    "# static IDs; variables to NodeRed via json. \n",
    "# ha customer betelefonál arra is van ticket - annak mi lesz az ID-je? es Gerijek nyitnak ticketet annak mi az ID-je.\n",
    "\n",
    "# check log files for tickets within 24 hours; last week; last month & print to file that will be available on Past Incidents tab"
   ]
  },
  {
   "cell_type": "markdown",
   "metadata": {},
   "source": [
    "### clear logs:"
   ]
  },
  {
   "cell_type": "raw",
   "metadata": {},
   "source": [
    "%%bash\n",
    "# monitoring_services.sh - part3\n",
    "# log cleanup and rotation...\n",
    "\n",
    "#cleanup script\n",
    "if [ ! -e /home/${USER}/cleanup.sh ]; then\n",
    "cleantext=\"\n",
    "#!/bin/sh\n",
    "\n",
    "export CSV_HOME=/home/${USER}/csv\n",
    "export LOG=/home/${USER}/log\n",
    "#Gzip logs older than 3 days\n",
    "/bin/find $LOG -type f -name \"*.log\" -mtime +3 -exec gzip -9 {} \\;\n",
    "#Cleanup gzips older than 60 days\n",
    "/bin/find $LOG -type f -name \"*log.gz\" -mtime +60 | xargs rm -f\n",
    "#CSV clear\n",
    "/bin/find $PI_HOME/var -type f -name \"*.csv\" -mtime +2 | xargs gzip -9\n",
    "/bin/find $PI_HOME/var -type f -name \"*.csv.gz\" -mtime +60 | xargs rm -f\n",
    "#Heap\n",
    "/bin/find /home/${USER} -type f -name \"heapdump.*.phd\" -mtime +3 | xargs rm -f\n",
    "/bin/find /home/${USER} -type f -name \"javacore.*.txt\" -mtime +3 | xargs rm -f\n",
    "/bin/find /home/ -type f -name \"Snap.*.trc\" -mtime +3 | xargs rm -f\n",
    "du -hs /home/${USER} > /home/${USER}/space.log\n",
    "\"\n",
    "\n",
    "echo \"$cleantext\" > /home/${USER}/cleanup.sh\n",
    "\n",
    "chmod 755 /home/${USER}/cleanup.sh\n",
    "echo Please add the following line to your crontab: \"5 0 * * * source ~/.bashrc; /home/${USER}/cleanup.sh\"\n",
    "fi\n",
    "}\n"
   ]
  },
  {
   "cell_type": "markdown",
   "metadata": {},
   "source": [
    "### logroration:"
   ]
  },
  {
   "cell_type": "markdown",
   "metadata": {},
   "source": [
    "https://www.thegeekstuff.com/2010/07/logrotate-examples/"
   ]
  },
  {
   "cell_type": "markdown",
   "metadata": {},
   "source": [
    "## finalizing..:"
   ]
  },
  {
   "cell_type": "code",
   "execution_count": null,
   "metadata": {},
   "outputs": [],
   "source": [
    "#!/bin/bash\n",
    "# monitoring_services.sh\n",
    "\n",
    "\n",
    "DATE=`date +'%m/%d/%Y %H:%M:%S'`\n",
    "\n",
    "\n",
    "services_check()\n",
    "{\n",
    "\n",
    "# Check status if services are running:\n",
    "grafana_check=\"$(curl -sL -I -w 'Establish Connection: %{time_connect}s\\nTTFB: %{time_starttransfer}s\\nTotal: %{time_total}s\\n' itahdnasrep.bmwgroup.net:3000/ping/api/health\"\n",
    "      latency=$(cat statcheck.txt | egrep \"Total: [3-9]\") # means latency is below 3 seconds\n",
    "# check if it is ok (if HTTP heartbeat returns 200 then also check latency if latency below 3 sec, then echo OK) & log (Latency needs to go to another log, as ticket is looking for last 5 rows...):\n",
    "alias grafana_status=\"[ $(echo ${service}_check | grep HTTP | grep 200 | awk '{print $2}') eq 200 ] && [ -z \"$latency\" ] || echo -e \"\"\\n$DATE\\n$grafana_check\\n\\n###\" >> ${service}_high_latency.log  && echo \"${service} OK\" >> ${service}_uptime.log || echo \"${service}\" not running $DATE >> ${service}_uptime.log\"\n",
    "\n",
    "###\n",
    "\n",
    "harvest_check=\"$(ssh -tt michal@ithdnasuathar.bmwgroup.net 'systemctl status harvest')\"\n",
    "alias harvest_status=if [ \"$(echo ${service}_check | sort -u | grep -v running | wc -l)\" -gt 0 ]; then echo \"${service}\" not running `date +'%m/%d/%Y %H:%M:%S'` >> ${service}_uptime.log; else echo \"${service} OK\";fi    \n",
    "\n",
    "###\n",
    "\n",
    "influx_check=\"$(curl -sL -I -w 'Establish Connection: %{time_connect}s\\nTTFB: %{time_starttransfer}s\\nTotal: %{time_total}s\\n' itahdnasrep.bmwgroup.net:8086\"\n",
    "      latency=$(cat statcheck.txt | egrep \"Total: [3-9]\")\n",
    "alias influx_status=\"[ $(echo ${service}_check | grep HTTP | grep 200 | awk '{print $2}') eq 200 ] && [ -z \"$latency\" ] || echo -e \"\"\\n$DATE\\n$influx_check\\n\\n###\" >> ${service}_high_latency.log  && echo \"${service} OK\" >> ${service}_uptime.log || echo \"${service}\" not running $DATE >> ${service}_uptime.log\"\n",
    "\n",
    "###    \n",
    "\n",
    "declare {nodered,ansible}=\"echo not configured yet \"  # CURRENTLY NOT SET\n",
    "\n",
    "###    \n",
    "\n",
    "telegraf_check=\"$(systemctl | grep ${service})\"    \n",
    "alias telegraf_status=if [ \"$(echo ${service}_check | sort -u | grep -v running | wc -l)\" -gt 0 ]; then echo \"${service}\" not running `date +'%m/%d/%Y %H:%M:%S'` >> ${service}_uptime.log; else echo \"${service} OK\";fi    \n",
    "    \n",
    "    \n",
    "for service in grafana harvest influx telegraf #ansible nodered\n",
    "    do\n",
    "        ${service}_status\n",
    "    done\n",
    "}\n",
    "\n",
    "\n",
    "\n",
    "ticket()\n",
    "{\n",
    "\n",
    "# Send info to NodeRed when service is down:\n",
    "HTIME=`date +'%m/%d/%Y %H:%M:%S'`; EPOCHNOW=`date -d \"${HTIME}\" +\"%s\"`\n",
    "\n",
    "c=0\n",
    "for((i=1;i<=5;++i))\n",
    "    do\n",
    "        dat=$(tac telegraf_uptime.log | sed -n \"${i},1p\" | cut -d@ -f2)\n",
    "        epoch_dat=`date -d \"${dat}\" +\"%s\"`\n",
    "        if [ \"$(echo $EPOCHNOW-$epoch_dat|bc)\" -le \"360\"  ] # less or equal to 360 seconds AKA 6 min (5min +1min grace time due to latency)\n",
    "            then c=$((c+1))\n",
    "        fi\n",
    "    done\n",
    "\n",
    "if [[ $c -ge 5 ]]; then echo \"ticket file with paramenters edited by sed will be passed to NodeRed\"; else echo OK; fi\n",
    "\n",
    "# static IDs; variables to NodeRed via json. \n",
    "# ha customer betelefonál arra is van ticket - annak mi lesz az ID-je? es Gerijek nyitnak ticketet annak mi az ID-je.\n",
    "\n",
    "# check log files for tickets within 24 hours; last week; last month & print to file that will be available on Past Incidents tab\n",
    "\n",
    "\n",
    "}\n",
    "\n",
    "\n",
    "manage_logs()\n",
    "{\n",
    "\n",
    "# PAST INCIDENTS:\n",
    "#rm incidents_*.csv 2>/dev/null\n",
    "\n",
    "for T in DAYS WEEKS MONTH; \n",
    "    do declare t=${T,,}; echo $t; \n",
    "        RANGE=$(date -d \"$date -1 ${t}\" +\"%s\"); \n",
    "\n",
    "        #cat telegraf_uptime.log | while read line; \n",
    "        ls *_uptime.log | xargs cat | sort -u | while read line;\n",
    "    \n",
    "        do \n",
    "            x=$(echo $line |cut -d@ -f2) #  | date +\"%s\") #  get Date\n",
    "            y=$(date -d \"$x\" +\"%s\")  # convert it to EPOCH format\n",
    "            \n",
    "            #echo $y-$RANGE|bc  # check difference\n",
    "            \n",
    "            if [ \"$RANGE\" -le \"$y\" ]; then  echo $line >> incidents_${t}.csv; fi\n",
    "            \n",
    "        done\n",
    "    \n",
    "    done\n",
    "\n",
    "mv incidents_days.csv today.csv\n",
    "mv incidents_weeks.csv weekly.csv   \n",
    "mv incidents_month.csv montly.csv \n",
    "\n",
    "}\n",
    "\n",
    "\n",
    "services_check\n",
    "ticket\n",
    "manage_logs"
   ]
  },
  {
   "cell_type": "code",
   "execution_count": null,
   "metadata": {},
   "outputs": [],
   "source": []
  }
 ],
 "metadata": {
  "kernelspec": {
   "display_name": "Python 3",
   "language": "python",
   "name": "python3"
  },
  "language_info": {
   "codemirror_mode": {
    "name": "ipython",
    "version": 3
   },
   "file_extension": ".py",
   "mimetype": "text/x-python",
   "name": "python",
   "nbconvert_exporter": "python",
   "pygments_lexer": "ipython3",
   "version": "3.7.6"
  }
 },
 "nbformat": 4,
 "nbformat_minor": 4
}
